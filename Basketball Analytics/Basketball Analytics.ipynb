{
 "cells": [
  {
   "cell_type": "markdown",
   "metadata": {},
   "source": [
    "## NBA Hackathon: Basketball Analytics"
   ]
  },
  {
   "cell_type": "code",
   "execution_count": 1,
   "metadata": {
    "collapsed": true
   },
   "outputs": [],
   "source": [
    "__author__ = \"jzqb\"\n",
    "__copyright__ = \"None\"\n",
    "__credits__ = [\"jzqb\", \"vk-allen\", \"kikiisme\"]\n",
    "__license__ = \"GPL\"\n",
    "__version__ = \"1.0.0\"\n",
    "__maintainer__ = \"jzqb\"\n",
    "__email__ = \"gaurav.singh@columbia.edu\"\n",
    "__status__ = \"Prototype\""
   ]
  },
  {
   "cell_type": "code",
   "execution_count": 2,
   "metadata": {
    "collapsed": true
   },
   "outputs": [],
   "source": [
    "## import libraries\n",
    "import pandas as pd\n",
    "import numpy as np\n",
    "from __future__ import print_function\n",
    "%matplotlib inline"
   ]
  },
  {
   "cell_type": "code",
   "execution_count": 3,
   "metadata": {
    "collapsed": true
   },
   "outputs": [],
   "source": [
    "## read in the data\n",
    "event_codes = pd.read_table(\"NBA Hackathon - Event Codes.txt\")\n",
    "game_lineup = pd.read_table(\"NBA Hackathon - Game Lineup Data Sample (50 Games).txt\")\n",
    "play_by_play = pd.read_table(\"NBA Hackathon - Play by Play Data Sample (50 Games).txt\")"
   ]
  },
  {
   "cell_type": "code",
   "execution_count": 4,
   "metadata": {},
   "outputs": [
    {
     "data": {
      "text/html": [
       "<div>\n",
       "<style>\n",
       "    .dataframe thead tr:only-child th {\n",
       "        text-align: right;\n",
       "    }\n",
       "\n",
       "    .dataframe thead th {\n",
       "        text-align: left;\n",
       "    }\n",
       "\n",
       "    .dataframe tbody tr th {\n",
       "        vertical-align: top;\n",
       "    }\n",
       "</style>\n",
       "<table border=\"1\" class=\"dataframe\">\n",
       "  <thead>\n",
       "    <tr style=\"text-align: right;\">\n",
       "      <th></th>\n",
       "      <th>Event_Msg_Type</th>\n",
       "      <th>Action_Type</th>\n",
       "      <th>Event_Msg_Type_Description</th>\n",
       "      <th>Action_Type_Description</th>\n",
       "    </tr>\n",
       "  </thead>\n",
       "  <tbody>\n",
       "    <tr>\n",
       "      <th>0</th>\n",
       "      <td>1</td>\n",
       "      <td>0</td>\n",
       "      <td>Made Shot</td>\n",
       "      <td>No Shot</td>\n",
       "    </tr>\n",
       "    <tr>\n",
       "      <th>1</th>\n",
       "      <td>1</td>\n",
       "      <td>1</td>\n",
       "      <td>Made Shot</td>\n",
       "      <td>Jump Shot</td>\n",
       "    </tr>\n",
       "    <tr>\n",
       "      <th>2</th>\n",
       "      <td>1</td>\n",
       "      <td>3</td>\n",
       "      <td>Made Shot</td>\n",
       "      <td>Hook Shot</td>\n",
       "    </tr>\n",
       "    <tr>\n",
       "      <th>3</th>\n",
       "      <td>1</td>\n",
       "      <td>4</td>\n",
       "      <td>Made Shot</td>\n",
       "      <td>Tip Shot</td>\n",
       "    </tr>\n",
       "    <tr>\n",
       "      <th>4</th>\n",
       "      <td>1</td>\n",
       "      <td>5</td>\n",
       "      <td>Made Shot</td>\n",
       "      <td>Layup Shot</td>\n",
       "    </tr>\n",
       "  </tbody>\n",
       "</table>\n",
       "</div>"
      ],
      "text/plain": [
       "   Event_Msg_Type  Action_Type                Event_Msg_Type_Description  \\\n",
       "0               1            0  Made Shot                                  \n",
       "1               1            1  Made Shot                                  \n",
       "2               1            3  Made Shot                                  \n",
       "3               1            4  Made Shot                                  \n",
       "4               1            5  Made Shot                                  \n",
       "\n",
       "                    Action_Type_Description  \n",
       "0  No Shot                                   \n",
       "1  Jump Shot                                 \n",
       "2  Hook Shot                                 \n",
       "3  Tip Shot                                  \n",
       "4  Layup Shot                                "
      ]
     },
     "execution_count": 4,
     "metadata": {},
     "output_type": "execute_result"
    }
   ],
   "source": [
    "event_codes.head()"
   ]
  },
  {
   "cell_type": "code",
   "execution_count": 5,
   "metadata": {},
   "outputs": [
    {
     "name": "stdout",
     "output_type": "stream",
     "text": [
      "Event Codes Columns:\n",
      "Index([u'Event_Msg_Type', u'Action_Type', u'Event_Msg_Type_Description',\n",
      "       u'Action_Type_Description'],\n",
      "      dtype='object')\n",
      "(274, 4)\n",
      "---------------------\n",
      "Game Line Up Columns:\n",
      "Index([u'Game_id', u'Period', u'Person_id', u'Team_id', u'status'], dtype='object')\n",
      "(2040, 5)\n",
      "---------------------\n",
      "Play by Play Columns:\n",
      "Index([u'Game_id', u'Event_Num', u'Event_Msg_Type', u'Period', u'WC_Time',\n",
      "       u'PC_Time', u'Action_Type', u'Option1', u'Option2', u'Option3',\n",
      "       u'Team_id', u'Person1', u'Person2', u'Team_id_type'],\n",
      "      dtype='object')\n",
      "(22808, 14)\n"
     ]
    }
   ],
   "source": [
    "print(\"Event Codes Columns:\")\n",
    "print(event_codes.columns)\n",
    "print(event_codes.shape)\n",
    "print(\"---------------------\")\n",
    "print(\"Game Line Up Columns:\")\n",
    "print(game_lineup.columns)\n",
    "print(game_lineup.shape)\n",
    "print(\"---------------------\")\n",
    "print(\"Play by Play Columns:\")\n",
    "print(play_by_play.columns)\n",
    "print(play_by_play.shape)"
   ]
  },
  {
   "cell_type": "code",
   "execution_count": 6,
   "metadata": {
    "collapsed": true
   },
   "outputs": [],
   "source": [
    "flat_table = pd.merge(play_by_play, event_codes, left_on = [\"Event_Msg_Type\", \"Action_Type\"], \n",
    "                               right_on = [\"Event_Msg_Type\", \"Action_Type\"], how = \"inner\")"
   ]
  },
  {
   "cell_type": "code",
   "execution_count": 7,
   "metadata": {},
   "outputs": [
    {
     "data": {
      "text/plain": [
       "(22807, 16)"
      ]
     },
     "execution_count": 7,
     "metadata": {},
     "output_type": "execute_result"
    }
   ],
   "source": [
    "## lost one row on the merge\n",
    "flat_table.shape"
   ]
  },
  {
   "cell_type": "code",
   "execution_count": 8,
   "metadata": {
    "collapsed": true
   },
   "outputs": [],
   "source": [
    "flat_table = flat_table.sort_values([\"Game_id\", \"Period\", \"PC_Time\", \"WC_Time\", \"Event_Num\"], \n",
    "                         ascending= [True, True, False, True, True])"
   ]
  },
  {
   "cell_type": "code",
   "execution_count": 9,
   "metadata": {
    "collapsed": true
   },
   "outputs": [],
   "source": [
    "all_games = flat_table.Game_id.unique()"
   ]
  },
  {
   "cell_type": "code",
   "execution_count": 52,
   "metadata": {},
   "outputs": [
    {
     "name": "stderr",
     "output_type": "stream",
     "text": [
      "/Users/gauravsingh/anaconda2/lib/python2.7/site-packages/ipykernel_launcher.py:24: SettingWithCopyWarning: \n",
      "A value is trying to be set on a copy of a slice from a DataFrame.\n",
      "Try using .loc[row_indexer,col_indexer] = value instead\n",
      "\n",
      "See the caveats in the documentation: http://pandas.pydata.org/pandas-docs/stable/indexing.html#indexing-view-versus-copy\n"
     ]
    }
   ],
   "source": [
    "master = []\n",
    "for game in all_games:\n",
    "    for quarter in np.linspace(1, 5, 5):\n",
    "        teams = game_lineup[(game_lineup['Game_id'] == game)]['Team_id'].unique()\n",
    "        team_one = teams[0]\n",
    "        team_two = teams[1]\n",
    "        quarter_line_up = game_lineup[(game_lineup['Game_id'] == game) & (game_lineup['Period'] == quarter)]\n",
    "        game_quarter_events = flat_table[(flat_table['Game_id'] == game) & (flat_table['Period'] == quarter)]\n",
    "        game_quarter_events = game_quarter_events.sort_values([\"Game_id\", \"Period\", \"PC_Time\", \"WC_Time\", \"Event_Num\"], \n",
    "                             ascending= [True, True, False, True, True])\n",
    "        team_one_active_players = list(quarter_line_up[quarter_line_up['Team_id'] == team_one]['Person_id'].unique())\n",
    "        team_two_active_players = list(quarter_line_up[quarter_line_up['Team_id'] == team_two]['Person_id'].unique())\n",
    "\n",
    "        \n",
    "        for idx, row in game_quarter_events.iterrows():\n",
    "            output = []\n",
    "            scoring_team = row['Team_id']\n",
    "            points = row['Option1']\n",
    "            event_num = row['Event_Num']\n",
    "            sub_flag = row['Event_Msg_Type']\n",
    "            if sub_flag == 8:\n",
    "                leaving_player = row['Person1']\n",
    "                joining_player = row['Person2']\n",
    "                quarter_line_up['Person_id'] = quarter_line_up['Person_id'].replace(leaving_player, joining_player)\n",
    "                team_one_active_players = list(quarter_line_up[quarter_line_up['Team_id'] == team_one]['Person_id'].unique())\n",
    "                team_two_active_players = list(quarter_line_up[quarter_line_up['Team_id'] == team_two]['Person_id'].unique())\n",
    "            if scoring_team == team_one:\n",
    "                team_flag = 1\n",
    "                for player in team_one_active_players:\n",
    "                    output.append([game, quarter, event_num, team_one, player, points])\n",
    "                for player in team_two_active_players:\n",
    "                    output.append([game, quarter, event_num, team_one, player, -points])\n",
    "            elif scoring_team == team_two:\n",
    "                team_flag = 2\n",
    "                for player in team_one_active_players:\n",
    "                    output.append([game, quarter, event_num, team_two, player, -points])\n",
    "                for player in team_two_active_players:\n",
    "                    output.append([game, quarter, event_num, team_two, player, points])\n",
    "            else:\n",
    "                continue\n",
    "            master = master + output"
   ]
  },
  {
   "cell_type": "code",
   "execution_count": 63,
   "metadata": {},
   "outputs": [],
   "source": [
    "master_df = pd.DataFrame(master, columns=['Game_ID', 'Period', 'Event_Num', 'Team_id', 'Player_ID', 'Player_Plus/Minus'])"
   ]
  },
  {
   "cell_type": "code",
   "execution_count": 65,
   "metadata": {},
   "outputs": [],
   "source": [
    "final_out = master_df.groupby(['Game_ID', 'Player_ID'])['Player_Plus/Minus'].agg('sum').reset_index()"
   ]
  },
  {
   "cell_type": "code",
   "execution_count": 66,
   "metadata": {},
   "outputs": [
    {
     "data": {
      "text/plain": [
       "(1077, 3)"
      ]
     },
     "execution_count": 66,
     "metadata": {},
     "output_type": "execute_result"
    }
   ],
   "source": [
    "final_out.shape"
   ]
  },
  {
   "cell_type": "code",
   "execution_count": 67,
   "metadata": {
    "collapsed": true
   },
   "outputs": [],
   "source": [
    "final_out.to_csv('submission.csv', index = False)"
   ]
  },
  {
   "cell_type": "code",
   "execution_count": null,
   "metadata": {
    "collapsed": true
   },
   "outputs": [],
   "source": []
  }
 ],
 "metadata": {
  "kernelspec": {
   "display_name": "Python 2",
   "language": "python",
   "name": "python2"
  },
  "language_info": {
   "codemirror_mode": {
    "name": "ipython",
    "version": 2
   },
   "file_extension": ".py",
   "mimetype": "text/x-python",
   "name": "python",
   "nbconvert_exporter": "python",
   "pygments_lexer": "ipython2",
   "version": "2.7.13"
  }
 },
 "nbformat": 4,
 "nbformat_minor": 2
}
